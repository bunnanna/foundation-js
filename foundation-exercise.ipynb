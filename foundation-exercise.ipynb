{
 "cells": [
  {
   "cell_type": "markdown",
   "metadata": {},
   "source": [
    ">> JavaScript in .NET Interactive Kernel can not use `const`, `let` and`var` keywords."
   ]
  },
  {
   "cell_type": "markdown",
   "metadata": {},
   "source": [
    "## Easy"
   ]
  },
  {
   "cell_type": "markdown",
   "metadata": {},
   "source": [
    "### 1. Write a function `mapRevertSign(arr)`\n",
    "\n",
    "   `mapRevertSign(arr)` takes in an array of numbers, and returns a new array\n",
    "   of numbers containing opposite signs of the original array."
   ]
  },
  {
   "cell_type": "code",
   "execution_count": 1,
   "metadata": {
    "dotnet_interactive": {
     "language": "javascript"
    },
    "polyglot_notebook": {
     "kernelName": "javascript"
    },
    "vscode": {
     "languageId": "polyglot-notebook"
    }
   },
   "outputs": [],
   "source": [
    "mapRevertSign = (arr) => {\n",
    "\treturn arr.map((i) => i * -1);\n",
    "};"
   ]
  },
  {
   "cell_type": "code",
   "execution_count": 2,
   "metadata": {
    "dotnet_interactive": {
     "language": "javascript"
    },
    "polyglot_notebook": {
     "kernelName": "javascript"
    },
    "vscode": {
     "languageId": "polyglot-notebook"
    }
   },
   "outputs": [
    {
     "data": {
      "application/json": [
       -1,
       4,
       -2,
       0
      ]
     },
     "metadata": {},
     "output_type": "display_data"
    }
   ],
   "source": [
    "console.log(mapRevertSign([1, -4, 2, 0]));"
   ]
  },
  {
   "cell_type": "markdown",
   "metadata": {},
   "source": [
    "### 2. Write a function `reverse(arr)`\n",
    "\n",
    "   `reverse(arr)` returns a new array which is `arr` reversed.\n",
    "\n",
    "   > You are not allowed to use `Array.reverse` method.\n"
   ]
  },
  {
   "cell_type": "code",
   "execution_count": 3,
   "metadata": {
    "dotnet_interactive": {
     "language": "javascript"
    },
    "polyglot_notebook": {
     "kernelName": "javascript"
    },
    "vscode": {
     "languageId": "polyglot-notebook"
    }
   },
   "outputs": [],
   "source": [
    "reverse = (arr) => {\n",
    "\treturn arr.map((v, i) => {\n",
    "\t\treturn arr[arr.length - i - 1];\n",
    "\t});\n",
    "};"
   ]
  },
  {
   "cell_type": "code",
   "execution_count": 4,
   "metadata": {
    "dotnet_interactive": {
     "language": "javascript"
    },
    "polyglot_notebook": {
     "kernelName": "javascript"
    },
    "vscode": {
     "languageId": "polyglot-notebook"
    }
   },
   "outputs": [
    {
     "data": {
      "application/json": [
       5,
       4,
       3,
       2,
       1
      ]
     },
     "metadata": {},
     "output_type": "display_data"
    }
   ],
   "source": [
    "console.log( reverse([1, 2, 3, 4, 5]));"
   ]
  },
  {
   "cell_type": "markdown",
   "metadata": {},
   "source": [
    "### 3. Write a function `isMember(mem, arr)`\n",
    "\n",
    "   `isMember(mem, arr)` returns a boolean indicating whether `mem` is a member of `arr`\n",
    "\n",
    "   > Do not use `Array` helper methods - use a simple `for` loop\n"
   ]
  },
  {
   "cell_type": "code",
   "execution_count": 5,
   "metadata": {
    "dotnet_interactive": {
     "language": "javascript"
    },
    "polyglot_notebook": {
     "kernelName": "javascript"
    },
    "vscode": {
     "languageId": "polyglot-notebook"
    }
   },
   "outputs": [],
   "source": [
    "isMember = (mem, arr) => {\n",
    "\tfor (let i = 0; i < arr.length; i++) {\n",
    "\t\tif (arr[i] === mem) return true;\n",
    "\t}\n",
    "\treturn false;\n",
    "};"
   ]
  },
  {
   "cell_type": "code",
   "execution_count": 6,
   "metadata": {
    "dotnet_interactive": {
     "language": "javascript"
    },
    "polyglot_notebook": {
     "kernelName": "javascript"
    },
    "vscode": {
     "languageId": "polyglot-notebook"
    }
   },
   "outputs": [
    {
     "data": {
      "text/plain": [
       "false"
      ]
     },
     "metadata": {},
     "output_type": "display_data"
    }
   ],
   "source": [
    "console.log(isMember(5, [1, 3, 7, 12]))"
   ]
  },
  {
   "cell_type": "code",
   "execution_count": 7,
   "metadata": {
    "dotnet_interactive": {
     "language": "javascript"
    },
    "polyglot_notebook": {
     "kernelName": "javascript"
    },
    "vscode": {
     "languageId": "polyglot-notebook"
    }
   },
   "outputs": [
    {
     "data": {
      "text/plain": [
       "true"
      ]
     },
     "metadata": {},
     "output_type": "display_data"
    }
   ],
   "source": [
    "console.log(isMember(\"john\", [\"jane\", \"jim\", \"john\"]));"
   ]
  },
  {
   "cell_type": "markdown",
   "metadata": {},
   "source": [
    "### 4. Write a function `unique(arr)`\n",
    "\n",
    "   `unique(arr)` takes in an array of numbers `arr` and returns a new array\n",
    "   whose elements are unique.\n",
    "\n",
    "   > You can use `isMember` implemented above.\n"
   ]
  },
  {
   "cell_type": "code",
   "execution_count": 8,
   "metadata": {
    "dotnet_interactive": {
     "language": "javascript"
    },
    "polyglot_notebook": {
     "kernelName": "javascript"
    },
    "vscode": {
     "languageId": "polyglot-notebook"
    }
   },
   "outputs": [],
   "source": [
    "unique = (arr) => {\n",
    "\treturn arr.reduce((prev, curr) => {\n",
    "\t\tif (isMember(curr, prev)) {\n",
    "\t\t\treturn prev;\n",
    "\t\t} else {\n",
    "\t\t\tprev.push(curr);\n",
    "\t\t\treturn prev;\n",
    "\t\t}\n",
    "\t}, []);\n",
    "};"
   ]
  },
  {
   "cell_type": "code",
   "execution_count": 9,
   "metadata": {
    "dotnet_interactive": {
     "language": "javascript"
    },
    "polyglot_notebook": {
     "kernelName": "javascript"
    },
    "vscode": {
     "languageId": "polyglot-notebook"
    }
   },
   "outputs": [
    {
     "data": {
      "application/json": [
       10,
       20,
       30,
       50,
       60,
       100
      ]
     },
     "metadata": {},
     "output_type": "display_data"
    }
   ],
   "source": [
    "console.log( unique([10, 20, 10, 20, 30, 50, 60, 100]));"
   ]
  },
  {
   "cell_type": "markdown",
   "metadata": {},
   "source": [
    "### 5. Write a function `draw(n)`\n",
    "\n",
    "   `draw(n)` takes in a number `n`, and prints the stars (`*`) into the console in this pattern:\n",
    "\n",
    "   > Hint: Use nested loop, using assignment operator “+=”,\n",
    "   > and “\\n” which is new line character (read “back-slash-N”)"
   ]
  },
  {
   "cell_type": "code",
   "execution_count": 10,
   "metadata": {
    "dotnet_interactive": {
     "language": "javascript"
    },
    "polyglot_notebook": {
     "kernelName": "javascript"
    },
    "vscode": {
     "languageId": "polyglot-notebook"
    }
   },
   "outputs": [],
   "source": [
    "draw = (n) => {\n",
    "\tconst a = \"*\".repeat(n);\n",
    "\tp = \"\";\n",
    "\tfor (let i = 0; i < n; i++) {\n",
    "\t\tp += a + \"\\n\";\n",
    "\t}\n",
    "\tconsole.log(p);\n",
    "};"
   ]
  },
  {
   "cell_type": "code",
   "execution_count": 11,
   "metadata": {
    "dotnet_interactive": {
     "language": "javascript"
    },
    "polyglot_notebook": {
     "kernelName": "javascript"
    },
    "vscode": {
     "languageId": "polyglot-notebook"
    }
   },
   "outputs": [
    {
     "data": {
      "text/plain": [
       "*****\n",
       "*****\n",
       "*****\n",
       "*****\n",
       "*****\n"
      ]
     },
     "metadata": {},
     "output_type": "display_data"
    }
   ],
   "source": [
    "draw(5)"
   ]
  },
  {
   "cell_type": "markdown",
   "metadata": {},
   "source": [
    "### 6. Re-write `draw(n)` as `drawNg(n)` (-ng suffix is usually used for next-gen)\n",
    "   Like `draw(n)`, but this time `drawNg(n)` prints this pattern:\n",
    "\n",
    "   > Hint: Use nested loop, using assignment operator “+=”,\n",
    "   > and “\\n” which is new line character (read “back-slash-N”)"
   ]
  },
  {
   "cell_type": "code",
   "execution_count": 12,
   "metadata": {
    "dotnet_interactive": {
     "language": "javascript"
    },
    "polyglot_notebook": {
     "kernelName": "javascript"
    },
    "vscode": {
     "languageId": "polyglot-notebook"
    }
   },
   "outputs": [],
   "source": [
    "drawNg = (n) => {\n",
    "\tlet a = \"\";\n",
    "\tlet p = \"\";\n",
    "\tfor (let i = 0; i < n; i++) {\n",
    "\t\tp += \"*\";\n",
    "\t\ta += p + \"\\n\";\n",
    "\t}\n",
    "\tconsole.log(a);\n",
    "};"
   ]
  },
  {
   "cell_type": "code",
   "execution_count": 13,
   "metadata": {
    "dotnet_interactive": {
     "language": "javascript"
    },
    "polyglot_notebook": {
     "kernelName": "javascript"
    },
    "vscode": {
     "languageId": "polyglot-notebook"
    }
   },
   "outputs": [
    {
     "data": {
      "text/plain": [
       "*\n",
       "**\n",
       "***\n",
       "****\n",
       "*****\n"
      ]
     },
     "metadata": {},
     "output_type": "display_data"
    }
   ],
   "source": [
    "drawNg(5)"
   ]
  },
  {
   "cell_type": "markdown",
   "metadata": {},
   "source": [
    "### 7. Write a function `mutual(arr1, arr2)`\n",
    "\n",
    "   `mutual(arr1, arr2)` returns a new array containing all mutual\n",
    "   members of `arr1` and `arr2`"
   ]
  },
  {
   "cell_type": "code",
   "execution_count": 14,
   "metadata": {
    "dotnet_interactive": {
     "language": "javascript"
    },
    "polyglot_notebook": {
     "kernelName": "javascript"
    },
    "vscode": {
     "languageId": "polyglot-notebook"
    }
   },
   "outputs": [],
   "source": [
    "mutual = (arr1, arr2) => {\n",
    "\treturn arr1.filter((mem) => arr2.includes(mem));\n",
    "};"
   ]
  },
  {
   "cell_type": "code",
   "execution_count": 15,
   "metadata": {
    "dotnet_interactive": {
     "language": "javascript"
    },
    "polyglot_notebook": {
     "kernelName": "javascript"
    },
    "vscode": {
     "languageId": "polyglot-notebook"
    }
   },
   "outputs": [
    {
     "data": {
      "application/json": [
       "Bob",
       "John"
      ]
     },
     "metadata": {},
     "output_type": "display_data"
    }
   ],
   "source": [
    "const class1 = ['Alice', 'Bob', 'John', 'Jane']\n",
    "const class2 = ['John', 'Foobar', 'Barbaz', 'Foobaz', 'Bob']\n",
    "console.log(mutual(class1,class2));"
   ]
  },
  {
   "cell_type": "markdown",
   "metadata": {},
   "source": [
    "### 8. Write a `fizzBuzz(n)` function\n",
    "\n",
    "   `fizzBuzz(n)` iterates over [inclusive range [1, n]](<https://en.wikipedia.org/wiki/Interval_(mathematics)>),\n",
    "   and for each element in the range, `fizzBuzz(n)` prints `Fizz` if the element is divisible by 3,\n",
    "   `Buzz` if the element is divisible by 5, and `FizzBuzz` if the element is divisible by 3 and 5.\n",
    "\n",
    "   If no conditions are met, `fizzBuzz(n)` prints the element."
   ]
  },
  {
   "cell_type": "code",
   "execution_count": 16,
   "metadata": {
    "dotnet_interactive": {
     "language": "javascript"
    },
    "polyglot_notebook": {
     "kernelName": "javascript"
    },
    "vscode": {
     "languageId": "polyglot-notebook"
    }
   },
   "outputs": [],
   "source": [
    "fizzBuzz = (n) => {\n",
    "\tfor (let i = 1; i <= n; i++) {\n",
    "\t\tif (i % 15 === 0) {\n",
    "\t\t\tconsole.log(\"FizzBuzz\");\n",
    "\t\t} else if (i % 5 === 0) {\n",
    "\t\t\tconsole.log(\"Buzz\");\n",
    "\t\t} else if (i % 3 === 0) {\n",
    "\t\t\tconsole.log(\"Fizz\");\n",
    "\t\t} else {\n",
    "\t\t\tconsole.log(i);\n",
    "\t\t}\n",
    "\t}\n",
    "};"
   ]
  },
  {
   "cell_type": "code",
   "execution_count": 17,
   "metadata": {
    "dotnet_interactive": {
     "language": "javascript"
    },
    "polyglot_notebook": {
     "kernelName": "javascript"
    },
    "vscode": {
     "languageId": "polyglot-notebook"
    }
   },
   "outputs": [
    {
     "data": {
      "text/plain": [
       "1"
      ]
     },
     "metadata": {},
     "output_type": "display_data"
    },
    {
     "data": {
      "text/plain": [
       "2"
      ]
     },
     "metadata": {},
     "output_type": "display_data"
    },
    {
     "data": {
      "text/plain": [
       "Fizz"
      ]
     },
     "metadata": {},
     "output_type": "display_data"
    },
    {
     "data": {
      "text/plain": [
       "4"
      ]
     },
     "metadata": {},
     "output_type": "display_data"
    },
    {
     "data": {
      "text/plain": [
       "Buzz"
      ]
     },
     "metadata": {},
     "output_type": "display_data"
    },
    {
     "data": {
      "text/plain": [
       "Fizz"
      ]
     },
     "metadata": {},
     "output_type": "display_data"
    },
    {
     "data": {
      "text/plain": [
       "7"
      ]
     },
     "metadata": {},
     "output_type": "display_data"
    },
    {
     "data": {
      "text/plain": [
       "8"
      ]
     },
     "metadata": {},
     "output_type": "display_data"
    },
    {
     "data": {
      "text/plain": [
       "Fizz"
      ]
     },
     "metadata": {},
     "output_type": "display_data"
    },
    {
     "data": {
      "text/plain": [
       "Buzz"
      ]
     },
     "metadata": {},
     "output_type": "display_data"
    },
    {
     "data": {
      "text/plain": [
       "11"
      ]
     },
     "metadata": {},
     "output_type": "display_data"
    },
    {
     "data": {
      "text/plain": [
       "Fizz"
      ]
     },
     "metadata": {},
     "output_type": "display_data"
    },
    {
     "data": {
      "text/plain": [
       "13"
      ]
     },
     "metadata": {},
     "output_type": "display_data"
    },
    {
     "data": {
      "text/plain": [
       "14"
      ]
     },
     "metadata": {},
     "output_type": "display_data"
    },
    {
     "data": {
      "text/plain": [
       "FizzBuzz"
      ]
     },
     "metadata": {},
     "output_type": "display_data"
    },
    {
     "data": {
      "text/plain": [
       "16"
      ]
     },
     "metadata": {},
     "output_type": "display_data"
    },
    {
     "data": {
      "text/plain": [
       "17"
      ]
     },
     "metadata": {},
     "output_type": "display_data"
    },
    {
     "data": {
      "text/plain": [
       "Fizz"
      ]
     },
     "metadata": {},
     "output_type": "display_data"
    },
    {
     "data": {
      "text/plain": [
       "19"
      ]
     },
     "metadata": {},
     "output_type": "display_data"
    },
    {
     "data": {
      "text/plain": [
       "Buzz"
      ]
     },
     "metadata": {},
     "output_type": "display_data"
    }
   ],
   "source": [
    "fizzBuzz(20);"
   ]
  },
  {
   "cell_type": "markdown",
   "metadata": {},
   "source": [
    "### 9. Write a GCD function `gcd(a, b)`\n",
    "\n",
    "   `gcd(a, b)` returns greatest common divisor (GCD / หรม.) between the pair `a`, `b`\n"
   ]
  },
  {
   "cell_type": "code",
   "execution_count": 18,
   "metadata": {
    "dotnet_interactive": {
     "language": "javascript"
    },
    "polyglot_notebook": {
     "kernelName": "javascript"
    },
    "vscode": {
     "languageId": "polyglot-notebook"
    }
   },
   "outputs": [],
   "source": [
    "gcd = (a, b) => {\n",
    "\twhile (a != b) {\n",
    "\t\tif (a > b) {\n",
    "\t\t\ta -= b;\n",
    "\t\t} else {\n",
    "\t\t\tb -= a;\n",
    "\t\t}\n",
    "\t}\n",
    "\treturn a;\n",
    "};"
   ]
  },
  {
   "cell_type": "code",
   "execution_count": 19,
   "metadata": {
    "dotnet_interactive": {
     "language": "javascript"
    },
    "polyglot_notebook": {
     "kernelName": "javascript"
    },
    "vscode": {
     "languageId": "polyglot-notebook"
    }
   },
   "outputs": [
    {
     "data": {
      "text/plain": [
       "5"
      ]
     },
     "metadata": {},
     "output_type": "display_data"
    }
   ],
   "source": [
    "console.log( gcd(10, 15));"
   ]
  },
  {
   "cell_type": "code",
   "execution_count": 20,
   "metadata": {
    "dotnet_interactive": {
     "language": "javascript"
    },
    "polyglot_notebook": {
     "kernelName": "javascript"
    },
    "vscode": {
     "languageId": "polyglot-notebook"
    }
   },
   "outputs": [
    {
     "data": {
      "text/plain": [
       "6"
      ]
     },
     "metadata": {},
     "output_type": "display_data"
    }
   ],
   "source": [
    "console.log(gcd(18, 12));"
   ]
  },
  {
   "cell_type": "code",
   "execution_count": 21,
   "metadata": {
    "dotnet_interactive": {
     "language": "javascript"
    },
    "polyglot_notebook": {
     "kernelName": "javascript"
    },
    "vscode": {
     "languageId": "polyglot-notebook"
    }
   },
   "outputs": [
    {
     "data": {
      "text/plain": [
       "1"
      ]
     },
     "metadata": {},
     "output_type": "display_data"
    }
   ],
   "source": [
    "console.log( gcd(3, 2));"
   ]
  },
  {
   "cell_type": "markdown",
   "metadata": {},
   "source": [
    "### 10. Write a function `filterLt(n, arr)`\n",
    "\n",
    "`filterLt(n, arr)` takes in an a number `n` and an array of numbers `arr`,and returns a new array containing all elements of `arr` that is lesser than (lt) `n`.\n",
    "\n",
    "> Do not use `Array` helper methods - use a simple `for` loop\n"
   ]
  },
  {
   "cell_type": "code",
   "execution_count": 22,
   "metadata": {
    "dotnet_interactive": {
     "language": "javascript"
    },
    "polyglot_notebook": {
     "kernelName": "javascript"
    },
    "vscode": {
     "languageId": "polyglot-notebook"
    }
   },
   "outputs": [],
   "source": [
    "filterLt = (n, arr) => {\n",
    "\tconst re = [];\n",
    "\tfor (let i = 0; i < arr.length; i++) {\n",
    "\t\tif (arr[i] < n) {\n",
    "\t\t\tre.push(arr[i]);\n",
    "\t\t}\n",
    "\t}\n",
    "\treturn re;\n",
    "};"
   ]
  },
  {
   "cell_type": "code",
   "execution_count": 23,
   "metadata": {
    "dotnet_interactive": {
     "language": "javascript"
    },
    "polyglot_notebook": {
     "kernelName": "javascript"
    },
    "vscode": {
     "languageId": "polyglot-notebook"
    }
   },
   "outputs": [
    {
     "data": {
      "application/json": []
     },
     "metadata": {},
     "output_type": "display_data"
    }
   ],
   "source": [
    "console.log(filterLt(0, [120, 112, 111, 130, 169, 101]))"
   ]
  },
  {
   "cell_type": "code",
   "execution_count": 24,
   "metadata": {
    "dotnet_interactive": {
     "language": "javascript"
    },
    "polyglot_notebook": {
     "kernelName": "javascript"
    },
    "vscode": {
     "languageId": "polyglot-notebook"
    }
   },
   "outputs": [
    {
     "data": {
      "application/json": [
       111,
       101
      ]
     },
     "metadata": {},
     "output_type": "display_data"
    }
   ],
   "source": [
    "console.log(filterLt(112, [120, 112, 111, 130, 169, 101]));"
   ]
  },
  {
   "cell_type": "markdown",
   "metadata": {},
   "source": [
    "### 11. Write a function `filterGt(n, arr)`\n",
    "\n",
    "`filterGt(n, arr)` performs similar business logic to `filterLt(n, arr)` above,but instead of doing a lesser-than test, it does a greater-than test\n",
    "\n",
    "> Do not use `Array` helper methods - use a simple `for` loop"
   ]
  },
  {
   "cell_type": "code",
   "execution_count": 25,
   "metadata": {
    "dotnet_interactive": {
     "language": "javascript"
    },
    "polyglot_notebook": {
     "kernelName": "javascript"
    },
    "vscode": {
     "languageId": "polyglot-notebook"
    }
   },
   "outputs": [],
   "source": [
    "filterGt = (n, arr) => {\n",
    "\tconst re = [];\n",
    "\tfor (let i = 0; i < arr.length; i++) {\n",
    "\t\tif (arr[i] > n) {\n",
    "\t\t\tre.push(arr[i]);\n",
    "\t\t}\n",
    "\t}\n",
    "\treturn re;\n",
    "};"
   ]
  },
  {
   "cell_type": "code",
   "execution_count": 26,
   "metadata": {
    "dotnet_interactive": {
     "language": "javascript"
    },
    "polyglot_notebook": {
     "kernelName": "javascript"
    },
    "vscode": {
     "languageId": "polyglot-notebook"
    }
   },
   "outputs": [
    {
     "data": {
      "application/json": [
       120,
       112,
       111,
       130,
       169,
       101
      ]
     },
     "metadata": {},
     "output_type": "display_data"
    }
   ],
   "source": [
    "console.log(filterGt(0, [120, 112, 111, 130, 169, 101]));"
   ]
  },
  {
   "cell_type": "code",
   "execution_count": 27,
   "metadata": {
    "dotnet_interactive": {
     "language": "javascript"
    },
    "polyglot_notebook": {
     "kernelName": "javascript"
    },
    "vscode": {
     "languageId": "polyglot-notebook"
    }
   },
   "outputs": [
    {
     "data": {
      "application/json": [
       120,
       130,
       169
      ]
     },
     "metadata": {},
     "output_type": "display_data"
    }
   ],
   "source": [
    "console.log(filterGt(112, [120, 112, 111, 130, 169, 101]));"
   ]
  },
  {
   "cell_type": "markdown",
   "metadata": {},
   "source": [
    "### 12. Implement a programmable logic to compute compounded return\n",
    "\n",
    "Compounded returns are an investment strategy in which the interest income earned from the previous period is also invested into the current period.\n",
    "\n",
    "This is like how we earn interests from savings accounts.\n",
    "\n",
    "The interface (function signature) to this logic should be as simple as `compoundedReturn(amount, interest, n)`where `amount` is the amount of fund invested in the 1st period, `interest` is an interest percentage per period,and `n` is the number of periods of the investment.\n"
   ]
  },
  {
   "cell_type": "code",
   "execution_count": 28,
   "metadata": {
    "dotnet_interactive": {
     "language": "javascript"
    },
    "polyglot_notebook": {
     "kernelName": "javascript"
    },
    "vscode": {
     "languageId": "polyglot-notebook"
    }
   },
   "outputs": [],
   "source": [
    "compoundedReturn = (amount, interest, n) => {\n",
    "\tamount *= (1 + interest / 100) ** n;\n",
    "\treturn amount;\n",
    "};"
   ]
  },
  {
   "cell_type": "code",
   "execution_count": 29,
   "metadata": {
    "dotnet_interactive": {
     "language": "javascript"
    },
    "polyglot_notebook": {
     "kernelName": "javascript"
    },
    "vscode": {
     "languageId": "polyglot-notebook"
    }
   },
   "outputs": [
    {
     "data": {
      "text/plain": [
       "101"
      ]
     },
     "metadata": {},
     "output_type": "display_data"
    }
   ],
   "source": [
    "console.log(compoundedReturn(100, 1, 1));"
   ]
  },
  {
   "cell_type": "code",
   "execution_count": 30,
   "metadata": {
    "dotnet_interactive": {
     "language": "javascript"
    },
    "polyglot_notebook": {
     "kernelName": "javascript"
    },
    "vscode": {
     "languageId": "polyglot-notebook"
    }
   },
   "outputs": [
    {
     "data": {
      "text/plain": [
       "110.00000000000001"
      ]
     },
     "metadata": {},
     "output_type": "display_data"
    }
   ],
   "source": [
    "console.log( compoundedReturn(100, 10, 1));"
   ]
  },
  {
   "cell_type": "code",
   "execution_count": 31,
   "metadata": {
    "dotnet_interactive": {
     "language": "javascript"
    },
    "polyglot_notebook": {
     "kernelName": "javascript"
    },
    "vscode": {
     "languageId": "polyglot-notebook"
    }
   },
   "outputs": [
    {
     "data": {
      "text/plain": [
       "121.00000000000001"
      ]
     },
     "metadata": {},
     "output_type": "display_data"
    }
   ],
   "source": [
    "console.log( compoundedReturn(100, 10, 2));"
   ]
  },
  {
   "cell_type": "markdown",
   "metadata": {},
   "source": [
    "### 13. Write a function `mean(arr)`\n",
    "\n",
    "`mean(arr)` returns the mean average value of `arr` dataset (represented as an array).\n",
    "\n",
    "If any one of `arr` members are of non-`number` type, `mean(arr)` returns `null`\n"
   ]
  },
  {
   "cell_type": "code",
   "execution_count": 32,
   "metadata": {
    "dotnet_interactive": {
     "language": "javascript"
    },
    "polyglot_notebook": {
     "kernelName": "javascript"
    },
    "vscode": {
     "languageId": "polyglot-notebook"
    }
   },
   "outputs": [],
   "source": [
    "mean = (arr) => {\n",
    "\tconst result = arr.reduce((prev, curr) => {\n",
    "\t\tif (typeof prev != \"number\" || typeof curr != \"number\") return null;\n",
    "\t\treturn prev + curr;\n",
    "\t});\n",
    "\tif (result == null) return result;\n",
    "\treturn result / arr.length;\n",
    "};"
   ]
  },
  {
   "cell_type": "code",
   "execution_count": 33,
   "metadata": {
    "dotnet_interactive": {
     "language": "javascript"
    },
    "polyglot_notebook": {
     "kernelName": "javascript"
    },
    "vscode": {
     "languageId": "polyglot-notebook"
    }
   },
   "outputs": [
    {
     "data": {
      "text/plain": [
       "2"
      ]
     },
     "metadata": {},
     "output_type": "display_data"
    }
   ],
   "source": [
    "console.log(mean([1, 2, 3]));"
   ]
  },
  {
   "cell_type": "code",
   "execution_count": 34,
   "metadata": {
    "dotnet_interactive": {
     "language": "javascript"
    },
    "polyglot_notebook": {
     "kernelName": "javascript"
    },
    "vscode": {
     "languageId": "polyglot-notebook"
    }
   },
   "outputs": [
    {
     "data": {
      "application/json": null
     },
     "metadata": {},
     "output_type": "display_data"
    }
   ],
   "source": [
    "console.log(mean([1, \"foo\", 3]));"
   ]
  },
  {
   "cell_type": "markdown",
   "metadata": {},
   "source": [
    "### 14. Write a function `mid(arr)`\n",
    "\n",
    "`mid(arr)` returns the array containing middle element(s) of array `arr`.\n",
    "\n",
    "If the array length is an even number, `mid` returns the 2 middle elements."
   ]
  },
  {
   "cell_type": "code",
   "execution_count": 35,
   "metadata": {
    "dotnet_interactive": {
     "language": "javascript"
    },
    "polyglot_notebook": {
     "kernelName": "javascript"
    },
    "vscode": {
     "languageId": "polyglot-notebook"
    }
   },
   "outputs": [],
   "source": [
    "mid = (arr) => {\n",
    "\tconst len = arr.length;\n",
    "\tif (len <= 1) return arr;\n",
    "\tconst idx = Math.floor(len / 2);\n",
    "\tif (len % 2 === 0) {\n",
    "\t\treturn [arr[idx - 1], arr[idx]];\n",
    "\t} else {\n",
    "\t\treturn [arr[idx]];\n",
    "\t}\n",
    "};"
   ]
  },
  {
   "cell_type": "code",
   "execution_count": 36,
   "metadata": {
    "dotnet_interactive": {
     "language": "javascript"
    },
    "polyglot_notebook": {
     "kernelName": "javascript"
    },
    "vscode": {
     "languageId": "polyglot-notebook"
    }
   },
   "outputs": [
    {
     "data": {
      "application/json": [
       "john"
      ]
     },
     "metadata": {},
     "output_type": "display_data"
    }
   ],
   "source": [
    "console.log(mid([\"john\"]));"
   ]
  },
  {
   "cell_type": "code",
   "execution_count": 37,
   "metadata": {
    "dotnet_interactive": {
     "language": "javascript"
    },
    "polyglot_notebook": {
     "kernelName": "javascript"
    },
    "vscode": {
     "languageId": "polyglot-notebook"
    }
   },
   "outputs": [
    {
     "data": {
      "application/json": [
       "bar"
      ]
     },
     "metadata": {},
     "output_type": "display_data"
    }
   ],
   "source": [
    "console.log(mid([\"foo\", \"bar\", \"baz\"]));"
   ]
  },
  {
   "cell_type": "code",
   "execution_count": 38,
   "metadata": {
    "dotnet_interactive": {
     "language": "javascript"
    },
    "polyglot_notebook": {
     "kernelName": "javascript"
    },
    "vscode": {
     "languageId": "polyglot-notebook"
    }
   },
   "outputs": [
    {
     "data": {
      "application/json": [
       2,
       3
      ]
     },
     "metadata": {},
     "output_type": "display_data"
    }
   ],
   "source": [
    "console.log( mid([1, 2, 3, 4])); "
   ]
  },
  {
   "cell_type": "markdown",
   "metadata": {},
   "source": [
    "### 15. Try learning `Array.sort` method (function) with this snippet:"
   ]
  },
  {
   "cell_type": "code",
   "execution_count": 39,
   "metadata": {
    "dotnet_interactive": {
     "language": "javascript"
    },
    "polyglot_notebook": {
     "kernelName": "javascript"
    },
    "vscode": {
     "languageId": "polyglot-notebook"
    }
   },
   "outputs": [
    {
     "data": {
      "application/json": [
       1,
       11,
       12,
       13,
       2,
       3
      ]
     },
     "metadata": {},
     "output_type": "display_data"
    }
   ],
   "source": [
    "const arr = [3, 2, 1, 12, 13, 11]\n",
    "arr.sort()\n",
    "\n",
    "console.log(arr)"
   ]
  },
  {
   "cell_type": "markdown",
   "metadata": {},
   "source": [
    "The `sort` method does now work as we expect. Instead of sorting by numeric value,\n",
    "it seems the `sort` method sorts elements as strings (hence it did not produce\n",
    "`[1, 2, 3, 11, 12, 13]`).\n",
    "\n",
    "After learning the root cause, try fixing this problem/implementing on your own.\n",
    "\n",
    "> Hint: a _callback_ function can be sent to `Array.sort`"
   ]
  },
  {
   "cell_type": "code",
   "execution_count": 40,
   "metadata": {
    "dotnet_interactive": {
     "language": "javascript"
    },
    "polyglot_notebook": {
     "kernelName": "javascript"
    },
    "vscode": {
     "languageId": "polyglot-notebook"
    }
   },
   "outputs": [
    {
     "data": {
      "application/json": [
       1,
       2,
       3,
       11,
       12,
       13
      ]
     },
     "metadata": {},
     "output_type": "display_data"
    }
   ],
   "source": [
    "const arr =[3, 2, 1, 12, 13, 11]\n",
    "\n",
    "console.log(arr.sort((a, b) => a - b));"
   ]
  },
  {
   "cell_type": "markdown",
   "metadata": {},
   "source": [
    "### 16. Write a function `median(arr)`\n",
    "\n",
    "`median(arr)` returns the statistical _median_ from the dataset `arr` (represented as an array).\n",
    "\n",
    "A dataset's median is the element at the middle of the sorted list. You are allowed to use\n",
    "`Array.sort` method for this implementation\n",
    "\n",
    "> Hint: You can use `mid()` and `mean()` implemeted above to solve this problem."
   ]
  },
  {
   "cell_type": "code",
   "execution_count": 41,
   "metadata": {
    "dotnet_interactive": {
     "language": "javascript"
    },
    "polyglot_notebook": {
     "kernelName": "javascript"
    },
    "vscode": {
     "languageId": "polyglot-notebook"
    }
   },
   "outputs": [],
   "source": [
    "median = (arr) => {\n",
    "\treturn mean(mid(arr.sort((a, b) => b - a)));\n",
    "};"
   ]
  },
  {
   "cell_type": "code",
   "execution_count": 42,
   "metadata": {
    "dotnet_interactive": {
     "language": "javascript"
    },
    "polyglot_notebook": {
     "kernelName": "javascript"
    },
    "vscode": {
     "languageId": "polyglot-notebook"
    }
   },
   "outputs": [
    {
     "data": {
      "text/plain": [
       "3"
      ]
     },
     "metadata": {},
     "output_type": "display_data"
    }
   ],
   "source": [
    "console.log(median([2, 1, 5, 3, 4]));"
   ]
  },
  {
   "cell_type": "markdown",
   "metadata": {},
   "source": [
    "### 17. Write a function `initArr(val, len)`\n",
    "\n",
    "`initArr(val, len)` returns an array of length `len` with all members initialized to `val`.\n"
   ]
  },
  {
   "cell_type": "code",
   "execution_count": 43,
   "metadata": {
    "dotnet_interactive": {
     "language": "javascript"
    },
    "polyglot_notebook": {
     "kernelName": "javascript"
    },
    "vscode": {
     "languageId": "polyglot-notebook"
    }
   },
   "outputs": [],
   "source": [
    "initArr = (val, len) => {\n",
    "\tconst arr = [];\n",
    "\tfor (let i = 0; i < len; i++) {\n",
    "\t\tarr[i] = val;\n",
    "\t}\n",
    "\treturn arr;\n",
    "};"
   ]
  },
  {
   "cell_type": "code",
   "execution_count": 44,
   "metadata": {
    "dotnet_interactive": {
     "language": "javascript"
    },
    "polyglot_notebook": {
     "kernelName": "javascript"
    },
    "vscode": {
     "languageId": "polyglot-notebook"
    }
   },
   "outputs": [
    {
     "data": {
      "application/json": [
       0,
       0,
       0,
       0,
       0
      ]
     },
     "metadata": {},
     "output_type": "display_data"
    }
   ],
   "source": [
    "console.log( initArr(0, 5));"
   ]
  },
  {
   "cell_type": "markdown",
   "metadata": {},
   "source": [
    "### 18. Write a function `flatMap(arr)`\n",
    "\n",
    "`flatMap(arr)` takes in an array of arrays, and returns the flattened array.\n",
    "\n",
    "> You are not allowed to use `Array.flat` method.\n"
   ]
  },
  {
   "cell_type": "code",
   "execution_count": 45,
   "metadata": {
    "dotnet_interactive": {
     "language": "javascript"
    },
    "polyglot_notebook": {
     "kernelName": "javascript"
    },
    "vscode": {
     "languageId": "polyglot-notebook"
    }
   },
   "outputs": [],
   "source": [
    "flatMap = (arr) => {\n",
    "\tconst flatArr = [];\n",
    "\tarr.forEach((i1) => {\n",
    "\t\ti1.forEach((i2) => flatArr.push(i2));\n",
    "\t});\n",
    "\treturn flatArr;\n",
    "};"
   ]
  },
  {
   "cell_type": "code",
   "execution_count": 46,
   "metadata": {
    "dotnet_interactive": {
     "language": "javascript"
    },
    "polyglot_notebook": {
     "kernelName": "javascript"
    },
    "vscode": {
     "languageId": "polyglot-notebook"
    }
   },
   "outputs": [
    {
     "data": {
      "application/json": [
       1,
       2,
       3,
       100,
       200,
       10,
       20
      ]
     },
     "metadata": {},
     "output_type": "display_data"
    }
   ],
   "source": [
    "const arr = [\n",
    "    [1, 2, 3],\n",
    "    [100, 200],\n",
    "    [10, 20],\n",
    "  ]\n",
    "\n",
    "  console.log(flatMap(arr));"
   ]
  },
  {
   "cell_type": "markdown",
   "metadata": {},
   "source": [
    "### 19. Write a function `mapMean(arr)`\n",
    "\n",
    "`mapMean(arr)` takes in an array of arrays, and returns an array of numbers\n",
    "whose element at index `i` maps to the mean average value of `arr[i]`.\n",
    "\n",
    "> You are allowed to use `mean(arr)` written above."
   ]
  },
  {
   "cell_type": "code",
   "execution_count": 47,
   "metadata": {
    "dotnet_interactive": {
     "language": "javascript"
    },
    "polyglot_notebook": {
     "kernelName": "javascript"
    },
    "vscode": {
     "languageId": "polyglot-notebook"
    }
   },
   "outputs": [],
   "source": [
    "mapMean = (arr) => {\n",
    "\treturn arr.map((i1) => mean(i1));\n",
    "};"
   ]
  },
  {
   "cell_type": "code",
   "execution_count": 48,
   "metadata": {
    "dotnet_interactive": {
     "language": "javascript"
    },
    "polyglot_notebook": {
     "kernelName": "javascript"
    },
    "vscode": {
     "languageId": "polyglot-notebook"
    }
   },
   "outputs": [
    {
     "data": {
      "application/json": [
       2,
       150,
       15
      ]
     },
     "metadata": {},
     "output_type": "display_data"
    }
   ],
   "source": [
    "const arr = [\n",
    "    [1, 2, 3],\n",
    "    [100, 200],\n",
    "    [10, 20],\n",
    "  ]\n",
    "\n",
    "console.log(mapMean(arr));"
   ]
  },
  {
   "cell_type": "markdown",
   "metadata": {},
   "source": [
    "### 20. Write a function `fib(n)`\n",
    "\n",
    "`fib(n)` prints the Fibonacci series up to `n` terms.\n",
    "\n",
    "The series look like this:\n",
    "\n",
    "```\n",
    "0, 1, 1, 2, 3, 5, 8, 13, 21, ...\n",
    "```"
   ]
  },
  {
   "cell_type": "code",
   "execution_count": 49,
   "metadata": {
    "dotnet_interactive": {
     "language": "javascript"
    },
    "polyglot_notebook": {
     "kernelName": "javascript"
    },
    "vscode": {
     "languageId": "polyglot-notebook"
    }
   },
   "outputs": [],
   "source": [
    "fib = (n) => {\n",
    "\tconst fibArr = [0, 1];\n",
    "\tfor (let i = 2; i < n; i++) {\n",
    "\t\tfibArr[i] = fibArr[i - 1] + fibArr[i - 2];\n",
    "\t}\n",
    "\treturn fibArr.toString();\n",
    "};"
   ]
  },
  {
   "cell_type": "code",
   "execution_count": 50,
   "metadata": {
    "dotnet_interactive": {
     "language": "javascript"
    },
    "polyglot_notebook": {
     "kernelName": "javascript"
    },
    "vscode": {
     "languageId": "polyglot-notebook"
    }
   },
   "outputs": [
    {
     "data": {
      "text/plain": [
       "0,1"
      ]
     },
     "metadata": {},
     "output_type": "display_data"
    }
   ],
   "source": [
    "console.log(fib(2));"
   ]
  },
  {
   "cell_type": "code",
   "execution_count": 51,
   "metadata": {
    "dotnet_interactive": {
     "language": "javascript"
    },
    "polyglot_notebook": {
     "kernelName": "javascript"
    },
    "vscode": {
     "languageId": "polyglot-notebook"
    }
   },
   "outputs": [
    {
     "data": {
      "text/plain": [
       "0,1,1"
      ]
     },
     "metadata": {},
     "output_type": "display_data"
    }
   ],
   "source": [
    "console.log(fib(3));"
   ]
  },
  {
   "cell_type": "code",
   "execution_count": 52,
   "metadata": {
    "dotnet_interactive": {
     "language": "javascript"
    },
    "polyglot_notebook": {
     "kernelName": "javascript"
    },
    "vscode": {
     "languageId": "polyglot-notebook"
    }
   },
   "outputs": [
    {
     "data": {
      "text/plain": [
       "0,1,1,2"
      ]
     },
     "metadata": {},
     "output_type": "display_data"
    }
   ],
   "source": [
    "console.log(fib(4));"
   ]
  },
  {
   "cell_type": "code",
   "execution_count": 53,
   "metadata": {
    "dotnet_interactive": {
     "language": "javascript"
    },
    "polyglot_notebook": {
     "kernelName": "javascript"
    },
    "vscode": {
     "languageId": "polyglot-notebook"
    }
   },
   "outputs": [
    {
     "data": {
      "text/plain": [
       "0,1,1,2,3"
      ]
     },
     "metadata": {},
     "output_type": "display_data"
    }
   ],
   "source": [
    "console.log(fib(5));"
   ]
  },
  {
   "cell_type": "code",
   "execution_count": 54,
   "metadata": {
    "dotnet_interactive": {
     "language": "javascript"
    },
    "polyglot_notebook": {
     "kernelName": "javascript"
    },
    "vscode": {
     "languageId": "polyglot-notebook"
    }
   },
   "outputs": [
    {
     "data": {
      "text/plain": [
       "0,1,1,2,3,5"
      ]
     },
     "metadata": {},
     "output_type": "display_data"
    }
   ],
   "source": [
    "console.log(fib(6));"
   ]
  },
  {
   "cell_type": "markdown",
   "metadata": {},
   "source": [
    "### 21. Write a function `toBytes(s)`\n",
    "\n",
    "`toBytes(s)` takes in a string `s` and returns an array of ASCII bytes\n",
    "formed by `s`.\n",
    "\n",
    "If a character in `s` is invalid ASCII, the character is omitted\n",
    "from the returned array.\n",
    "\n",
    "> Hint: JavaScript strings have method `s.charCodeAt(i)` which returns the\n",
    "> ASCII code of the character at index `i` of string `s`\n"
   ]
  },
  {
   "cell_type": "code",
   "execution_count": 55,
   "metadata": {
    "dotnet_interactive": {
     "language": "javascript"
    },
    "polyglot_notebook": {
     "kernelName": "javascript"
    },
    "vscode": {
     "languageId": "polyglot-notebook"
    }
   },
   "outputs": [],
   "source": [
    "toBytes = (s) => {\n",
    "\treturn [...s]\n",
    "\t\t.map((val, idx) => {\n",
    "\t\t\treturn s.charCodeAt(idx);\n",
    "\t\t})\n",
    "\t\t.filter((val) => val < 255);\n",
    "};"
   ]
  },
  {
   "cell_type": "code",
   "execution_count": 56,
   "metadata": {
    "dotnet_interactive": {
     "language": "javascript"
    },
    "polyglot_notebook": {
     "kernelName": "javascript"
    },
    "vscode": {
     "languageId": "polyglot-notebook"
    }
   },
   "outputs": [
    {
     "data": {
      "application/json": [
       66,
       97,
       114
      ]
     },
     "metadata": {},
     "output_type": "display_data"
    }
   ],
   "source": [
    "console.log(toBytes(\"Bar\"));"
   ]
  },
  {
   "cell_type": "code",
   "execution_count": 57,
   "metadata": {
    "dotnet_interactive": {
     "language": "javascript"
    },
    "polyglot_notebook": {
     "kernelName": "javascript"
    },
    "vscode": {
     "languageId": "polyglot-notebook"
    }
   },
   "outputs": [
    {
     "data": {
      "application/json": [
       70,
       111,
       111
      ]
     },
     "metadata": {},
     "output_type": "display_data"
    }
   ],
   "source": [
    "console.log(toBytes(\"Foo\"));"
   ]
  },
  {
   "cell_type": "code",
   "execution_count": 58,
   "metadata": {
    "dotnet_interactive": {
     "language": "javascript"
    },
    "polyglot_notebook": {
     "kernelName": "javascript"
    },
    "vscode": {
     "languageId": "polyglot-notebook"
    }
   },
   "outputs": [
    {
     "data": {
      "application/json": [
       70,
       111,
       111
      ]
     },
     "metadata": {},
     "output_type": "display_data"
    }
   ],
   "source": [
    "console.log(toBytes(\"Foo🔥\"));"
   ]
  },
  {
   "cell_type": "markdown",
   "metadata": {},
   "source": [
    "## Medium"
   ]
  },
  {
   "cell_type": "markdown",
   "metadata": {},
   "source": [
    "1.  Write a function `maxNegMinPos(arr)`\n",
    "\n",
    "`maxNegMinPos(arr)` takes in an array `arr`, and it prints the max negative value (maxNeg)\n",
    "as well as the min positive value (minPos)\n",
    "\n",
    "> You are not allowed to use `Math.min` or `Math.max` method."
   ]
  },
  {
   "cell_type": "code",
   "execution_count": 59,
   "metadata": {
    "dotnet_interactive": {
     "language": "javascript"
    },
    "polyglot_notebook": {
     "kernelName": "javascript"
    },
    "vscode": {
     "languageId": "polyglot-notebook"
    }
   },
   "outputs": [],
   "source": [
    "maxNegMinPos = (arr) => {\n",
    "\tconsole.log(\n",
    "\t\t\"MaxNeg is\",\n",
    "\t\tarr.filter((v) => v < 0).reduce((prev, curr) => (prev > curr ? prev : curr))\n",
    "\t);\n",
    "\tconsole.log(\n",
    "\t\t\"MinPos is\",\n",
    "\t\tarr.filter((v) => v > 0).reduce((prev, curr) => (prev < curr ? prev : curr))\n",
    "\t);\n",
    "};"
   ]
  },
  {
   "cell_type": "code",
   "execution_count": 60,
   "metadata": {
    "dotnet_interactive": {
     "language": "javascript"
    },
    "polyglot_notebook": {
     "kernelName": "javascript"
    },
    "vscode": {
     "languageId": "polyglot-notebook"
    }
   },
   "outputs": [
    {
     "data": {
      "text/plain": [
       "MaxNeg is"
      ]
     },
     "metadata": {},
     "output_type": "display_data"
    },
    {
     "data": {
      "text/plain": [
       "-1"
      ]
     },
     "metadata": {},
     "output_type": "display_data"
    },
    {
     "data": {
      "text/plain": [
       "MinPos is"
      ]
     },
     "metadata": {},
     "output_type": "display_data"
    },
    {
     "data": {
      "text/plain": [
       "2"
      ]
     },
     "metadata": {},
     "output_type": "display_data"
    }
   ],
   "source": [
    "maxNegMinPos([12, -13, 14, 4, 2, -1, -18]);"
   ]
  },
  {
   "cell_type": "markdown",
   "metadata": {},
   "source": [
    "### 2.  Write a function `prime(n)`\n",
    "\n",
    "`prime(n)` returns an array of first `n` prime numbers\n",
    "\n",
    "> Hint: keep a list of prime numbers, and check subsequent\n",
    "> number iterations against the list."
   ]
  },
  {
   "cell_type": "code",
   "execution_count": 61,
   "metadata": {
    "dotnet_interactive": {
     "language": "javascript"
    },
    "polyglot_notebook": {
     "kernelName": "javascript"
    },
    "vscode": {
     "languageId": "polyglot-notebook"
    }
   },
   "outputs": [],
   "source": [
    "prime = (n) => {\n",
    "\tconst result = [2];\n",
    "\tlet a = 3;\n",
    "\twhile (result.length < n) {\n",
    "\t\tif (!result.some((pri) => a % pri === 0)) result.push(a);\n",
    "\t\ta++;\n",
    "\t}\n",
    "\treturn result;\n",
    "};"
   ]
  },
  {
   "cell_type": "code",
   "execution_count": 62,
   "metadata": {
    "dotnet_interactive": {
     "language": "javascript"
    },
    "polyglot_notebook": {
     "kernelName": "javascript"
    },
    "vscode": {
     "languageId": "polyglot-notebook"
    }
   },
   "outputs": [
    {
     "data": {
      "application/json": [
       2,
       3,
       5,
       7
      ]
     },
     "metadata": {},
     "output_type": "display_data"
    }
   ],
   "source": [
    "console.log(prime(4));"
   ]
  },
  {
   "cell_type": "code",
   "execution_count": 63,
   "metadata": {
    "dotnet_interactive": {
     "language": "javascript"
    },
    "polyglot_notebook": {
     "kernelName": "javascript"
    },
    "vscode": {
     "languageId": "polyglot-notebook"
    }
   },
   "outputs": [
    {
     "data": {
      "application/json": [
       2,
       3,
       5,
       7,
       11
      ]
     },
     "metadata": {},
     "output_type": "display_data"
    }
   ],
   "source": [
    "console.log(prime(5));"
   ]
  },
  {
   "cell_type": "markdown",
   "metadata": {},
   "source": [
    "### 3.  Write a function `drawDown(chart)`\n",
    "\n",
    "`drawDown(chart)` returns the biggest downward movement within the chart points\n",
    "\n",
    "Where `chart` is points in a chart, represented as an array of numbers:\n",
    "`[110, 105, 95, 9, 80, 17, 120, 115, 11]`\n",
    "\n",
    "> Hint: you must keep states"
   ]
  },
  {
   "cell_type": "code",
   "execution_count": 64,
   "metadata": {
    "dotnet_interactive": {
     "language": "javascript"
    },
    "polyglot_notebook": {
     "kernelName": "javascript"
    },
    "vscode": {
     "languageId": "polyglot-notebook"
    }
   },
   "outputs": [],
   "source": [
    "drawDown = (chart) => {\n",
    "\treturn chart\n",
    "\t\t.map((point, idx) => {\n",
    "\t\t\treturn point - chart.slice(idx + 1).sort((a, b) => a - b)[0];\n",
    "\t\t})\n",
    "\t\t.sort((a, b) => b - a)[0];\n",
    "};"
   ]
  },
  {
   "cell_type": "code",
   "execution_count": 65,
   "metadata": {
    "dotnet_interactive": {
     "language": "javascript"
    },
    "polyglot_notebook": {
     "kernelName": "javascript"
    },
    "vscode": {
     "languageId": "polyglot-notebook"
    }
   },
   "outputs": [
    {
     "data": {
      "text/plain": [
       "109"
      ]
     },
     "metadata": {},
     "output_type": "display_data"
    }
   ],
   "source": [
    "console.log(drawDown([110, 105, 95, 9, 80, 17, 120, 115, 11]))"
   ]
  },
  {
   "cell_type": "markdown",
   "metadata": {},
   "source": [
    "## CHALLENGES"
   ]
  },
  {
   "cell_type": "markdown",
   "metadata": {},
   "source": [
    "### 1.  Write a function `summarize(text, trail, len)`\n",
    "\n",
    "`summarize(text, trail, len)` returns the shortest preview of `text`.\n",
    "\n",
    "If `text` fits within `len`, then `summarize` returns the whole text.\n",
    "\n",
    "If `text` is longer than `len`, then `summarize` will _truncate_ `text`\n",
    "and appends `trail` (e.g. ` ...` with a whitespace at the front) to the return string.\n",
    "\n",
    "> The whole return string must fit into `len`, i.e. its length must not exceed `len`.\n",
    "\n",
    "The returned text must contain only whole words (i.e. words are separated\n",
    "by whitespace ` `). Partial words are not allowed.\n",
    "\n",
    "If `len` is smaller than 3, and `text` does not fit `len`,\n",
    "`summarize` returns an empty string `\"\"`."
   ]
  },
  {
   "cell_type": "code",
   "execution_count": 66,
   "metadata": {
    "dotnet_interactive": {
     "language": "javascript"
    },
    "polyglot_notebook": {
     "kernelName": "javascript"
    },
    "vscode": {
     "languageId": "polyglot-notebook"
    }
   },
   "outputs": [],
   "source": [
    "summarize = (text, trail, len) => {\n",
    "\tif (text.length <= len) return text;\n",
    "\tconst splittext = text.split(\" \");\n",
    "\tif (len < 3 && splittext[0].length > len) return \"\";\n",
    "\tlet result = \"\";\n",
    "\tconst trailWithSpace = \" \" + trail;\n",
    "\tconst emptySpace = len - trailWithSpace.length;\n",
    "\tfor (let i = 0; i < splittext.length; i++) {\n",
    "\t\tif (!(splittext[i].length < emptySpace - result.length)) {\n",
    "\t\t\tbreak;\n",
    "\t\t}\n",
    "\t\tresult += \" \" + splittext[i];\n",
    "\t}\n",
    "\treturn result + trailWithSpace;\n",
    "};"
   ]
  },
  {
   "cell_type": "code",
   "execution_count": 67,
   "metadata": {
    "dotnet_interactive": {
     "language": "javascript"
    },
    "polyglot_notebook": {
     "kernelName": "javascript"
    },
    "vscode": {
     "languageId": "polyglot-notebook"
    }
   },
   "outputs": [
    {
     "data": {
      "text/plain": []
     },
     "metadata": {},
     "output_type": "display_data"
    }
   ],
   "source": [
    "const articleFoo = \"Good morning ladies and gentlemen\";\n",
    "console.log(summarize(articleFoo, \" ...\", 2));"
   ]
  },
  {
   "cell_type": "code",
   "execution_count": 68,
   "metadata": {
    "dotnet_interactive": {
     "language": "javascript"
    },
    "polyglot_notebook": {
     "kernelName": "javascript"
    },
    "vscode": {
     "languageId": "polyglot-notebook"
    }
   },
   "outputs": [
    {
     "data": {
      "text/plain": [
       " Good  ..."
      ]
     },
     "metadata": {},
     "output_type": "display_data"
    }
   ],
   "source": [
    "const articleFoo = \"Good morning ladies and gentlemen\";\n",
    "console.log(summarize(articleFoo, \" ...\", 10));"
   ]
  },
  {
   "cell_type": "code",
   "execution_count": 69,
   "metadata": {
    "dotnet_interactive": {
     "language": "javascript"
    },
    "polyglot_notebook": {
     "kernelName": "javascript"
    },
    "vscode": {
     "languageId": "polyglot-notebook"
    }
   },
   "outputs": [
    {
     "data": {
      "text/plain": [
       " Good morning  ..."
      ]
     },
     "metadata": {},
     "output_type": "display_data"
    }
   ],
   "source": [
    "const articleFoo = \"Good morning ladies and gentlemen\";\n",
    "console.log(summarize(articleFoo, \" ...\", 20));"
   ]
  },
  {
   "cell_type": "code",
   "execution_count": 70,
   "metadata": {
    "dotnet_interactive": {
     "language": "javascript"
    },
    "polyglot_notebook": {
     "kernelName": "javascript"
    },
    "vscode": {
     "languageId": "polyglot-notebook"
    }
   },
   "outputs": [
    {
     "data": {
      "text/plain": [
       " Good morning ladies  ..."
      ]
     },
     "metadata": {},
     "output_type": "display_data"
    }
   ],
   "source": [
    "const articleFoo = \"Good morning ladies and gentlemen\";\n",
    "console.log(summarize(articleFoo, \" ...\", 25));"
   ]
  },
  {
   "cell_type": "markdown",
   "metadata": {},
   "source": [
    "### 2.  Write a function `mode(arr)`\n",
    "\n",
    "`mode(arr)` returns the statistical _mode_ from the dataset `arr` (represented as an array).\n",
    "\n",
    "A dataset's mode is the value which appears most frequently in a dataset. If none is found,\n",
    "or if there are no clear winner, `mode(arr)` returns `null`\n",
    "\n",
    "> Hint: It can be done in 2 ways: the first is by using a HashMap, the second is by using an Object. You may need to research how to use HashMap in JavaScript.\n"
   ]
  },
  {
   "cell_type": "code",
   "execution_count": 71,
   "metadata": {
    "dotnet_interactive": {
     "language": "javascript"
    },
    "polyglot_notebook": {
     "kernelName": "javascript"
    },
    "vscode": {
     "languageId": "polyglot-notebook"
    }
   },
   "outputs": [],
   "source": [
    "mode = (arr) => {\n",
    "\tconst countNum = arr.reduce((prev, curr) => {\n",
    "\t\tif (!prev.get(curr)) prev.set(curr, 0);\n",
    "\t\tprev.set(curr, prev.get(curr) + 1);\n",
    "\t\treturn prev;\n",
    "\t}, new Map());\n",
    "\tconst modenum = new Map();\n",
    "\tcountNum.forEach((val, key) => {\n",
    "\t\tif (!modenum.get(val)) modenum.set(val, []);\n",
    "\t\tmodenum.set(val, [...modenum.get(val), key]);\n",
    "\t});\n",
    "\tconst modeidx = modenum.get(Math.max(...Array.from(modenum.keys())));\n",
    "\treturn modeidx.length == 1 ? Number(modeidx[0]) : null;\n",
    "};"
   ]
  },
  {
   "cell_type": "code",
   "execution_count": 72,
   "metadata": {
    "dotnet_interactive": {
     "language": "javascript"
    },
    "polyglot_notebook": {
     "kernelName": "javascript"
    },
    "vscode": {
     "languageId": "polyglot-notebook"
    }
   },
   "outputs": [
    {
     "data": {
      "text/plain": [
       "1"
      ]
     },
     "metadata": {},
     "output_type": "display_data"
    }
   ],
   "source": [
    "console.log(mode([1, 2, 1, 4, 5, 6, 2, 1]))"
   ]
  },
  {
   "cell_type": "code",
   "execution_count": 73,
   "metadata": {
    "dotnet_interactive": {
     "language": "javascript"
    },
    "polyglot_notebook": {
     "kernelName": "javascript"
    },
    "vscode": {
     "languageId": "polyglot-notebook"
    }
   },
   "outputs": [
    {
     "data": {
      "application/json": null
     },
     "metadata": {},
     "output_type": "display_data"
    }
   ],
   "source": [
    "console.log(mode([2, 5, 2, 4, 5]))"
   ]
  },
  {
   "cell_type": "markdown",
   "metadata": {},
   "source": [
    "###     2.1 Write a function `mapMode(arr)`\n",
    "\n",
    "`mapMode(arr)` takes in an array of arrays, and returns an array of numbers\n",
    "whose element at index `i` maps to the statistical mode of `arr[i]`.\n",
    "> You are allowed to use `mode(arr)` written above."
   ]
  },
  {
   "cell_type": "code",
   "execution_count": 74,
   "metadata": {
    "dotnet_interactive": {
     "language": "javascript"
    },
    "polyglot_notebook": {
     "kernelName": "javascript"
    },
    "vscode": {
     "languageId": "polyglot-notebook"
    }
   },
   "outputs": [],
   "source": [
    "mapMode = (arr) => {\n",
    "\treturn arr.map((ar) => mode(ar));\n",
    "};"
   ]
  },
  {
   "cell_type": "code",
   "execution_count": 75,
   "metadata": {
    "dotnet_interactive": {
     "language": "javascript"
    },
    "polyglot_notebook": {
     "kernelName": "javascript"
    },
    "vscode": {
     "languageId": "polyglot-notebook"
    }
   },
   "outputs": [
    {
     "data": {
      "application/json": [
       1,
       null,
       null
      ]
     },
     "metadata": {},
     "output_type": "display_data"
    }
   ],
   "source": [
    "const arr = [\n",
    "    [1, 2, 3, 1],\n",
    "    [100, 200],\n",
    "    [10, 20],\n",
    "  ]\n",
    "\n",
    "console.log(mapMode(arr));"
   ]
  },
  {
   "cell_type": "markdown",
   "metadata": {},
   "source": [
    "### 3.  Write a function `transpose(bits, w, h)`\n",
    "\n",
    "`transpose(bits, w, h)` transposes an array `bits` into arrays of arrays,\n",
    "based on the value of `w`, `h`, and to some extent `bits`.\n",
    "\n",
    "For example, consider this scenario:\n",
    "**we are working on a image processing engine**.\n",
    "\n",
    "The image files are represented on disks or in memory as just a\n",
    "long list (array) of bytes, much like any files:\n"
   ]
  },
  {
   "cell_type": "markdown",
   "metadata": {},
   "source": [
    "> How files are represented on disk as arrays of bits,\n",
    "> and when they are first loaded to memory.\n",
    ">\n",
    "> [1, 0, 1, 0, 0, 0, 0, 0, 1, 0, 1, 0, 1, 0, 1, 1, 1, 0, 0]\n",
    "\n"
   ]
  },
  {
   "cell_type": "markdown",
   "metadata": {},
   "source": [
    "\n",
    "Now, let's assume that the image file format for our programs are just\n",
    "simple 1-bit [bitmap](https://en.wikipedia.org/wiki/Bitmap) files,\n",
    "that is, each bit represent a pixel, with `0` being a black pixel\n",
    "and `1` being a white one.\n",
    "\n",
    "Although our simple app is only limited to processing 1-bit images,\n",
    "the resolution (the width and the height of the image) can vary file by file.\n",
    "\n",
    "Without image compression, this means that larger images will have larger\n",
    "length (file size).\n",
    "\n",
    "Because displays are 2D in nature - to display the bitmap image, we need\n",
    "to do some transposing when rendering images to the screens.\n",
    "\n",
    "And because the width and height of images may vary,\n",
    "we need a way to map the 1D array into 2D one.\n",
    "\n",
    "Implement the function that can performs the following operations:\n"
   ]
  },
  {
   "cell_type": "code",
   "execution_count": 76,
   "metadata": {
    "dotnet_interactive": {
     "language": "javascript"
    },
    "polyglot_notebook": {
     "kernelName": "javascript"
    },
    "vscode": {
     "languageId": "polyglot-notebook"
    }
   },
   "outputs": [],
   "source": [
    "transpose = (bits, w, h) => {\n",
    "\tconst img = [];\n",
    "\tfor (let i = 0; i < h; i++) {\n",
    "\t\timg[i] = bits.slice(i * w, (i + 1) * w);\n",
    "\t\t// for (let j = 0; j < w; j++) {\n",
    "\t\t// \timg[i][j] = bits[idx];\n",
    "\t\t// \tidx++;\n",
    "\t\t// }\n",
    "\t}\n",
    "\treturn img;\n",
    "};"
   ]
  },
  {
   "cell_type": "code",
   "execution_count": 77,
   "metadata": {
    "dotnet_interactive": {
     "language": "javascript"
    },
    "polyglot_notebook": {
     "kernelName": "javascript"
    },
    "vscode": {
     "languageId": "polyglot-notebook"
    }
   },
   "outputs": [
    {
     "data": {
      "application/json": [
       [
        1,
        0,
        1,
        0,
        0,
        0,
        0,
        0
       ],
       [
        1,
        0,
        1,
        0,
        1,
        1,
        1,
        1
       ]
      ]
     },
     "metadata": {},
     "output_type": "display_data"
    }
   ],
   "source": [
    "const imageBytes = [1, 0, 1, 0, 0, 0, 0, 0, 1, 0, 1, 0, 1, 1, 1, 1];\n",
    "console.log(transpose(imageBytes, 8, 2));"
   ]
  },
  {
   "cell_type": "code",
   "execution_count": 78,
   "metadata": {
    "dotnet_interactive": {
     "language": "javascript"
    },
    "polyglot_notebook": {
     "kernelName": "javascript"
    },
    "vscode": {
     "languageId": "polyglot-notebook"
    }
   },
   "outputs": [
    {
     "data": {
      "application/json": [
       [
        1,
        0
       ],
       [
        1,
        0
       ],
       [
        0,
        0
       ],
       [
        0,
        0
       ],
       [
        1,
        0
       ],
       [
        1,
        0
       ],
       [
        1,
        1
       ],
       [
        1,
        1
       ]
      ]
     },
     "metadata": {},
     "output_type": "display_data"
    }
   ],
   "source": [
    "const imageBytes = [1, 0, 1, 0, 0, 0, 0, 0, 1, 0, 1, 0, 1, 1, 1, 1];\n",
    "console.log(transpose(imageBytes, 2, 8));"
   ]
  },
  {
   "cell_type": "markdown",
   "metadata": {},
   "source": [
    "### 4.  Write a function `transposable(arr, w, h)`\n",
    "\n",
    "> Related to `transpose(arr, w, h)` above\n",
    "\n",
    "`transposable(arr, w, h)` returns a boolean, indicating whether the array `arr`\n",
    "could be transposed with `w` and `h`. It is considered transposable if the\n",
    "resulting 2D array can form a rectangle (all rows have uniform length).\n"
   ]
  },
  {
   "cell_type": "code",
   "execution_count": 79,
   "metadata": {
    "dotnet_interactive": {
     "language": "javascript"
    },
    "polyglot_notebook": {
     "kernelName": "javascript"
    },
    "vscode": {
     "languageId": "polyglot-notebook"
    }
   },
   "outputs": [],
   "source": [
    "transposable = (arr, w, h) => arr.length == w * h;"
   ]
  },
  {
   "cell_type": "code",
   "execution_count": 80,
   "metadata": {
    "dotnet_interactive": {
     "language": "javascript"
    },
    "polyglot_notebook": {
     "kernelName": "javascript"
    },
    "vscode": {
     "languageId": "polyglot-notebook"
    }
   },
   "outputs": [
    {
     "data": {
      "text/plain": [
       "true"
      ]
     },
     "metadata": {},
     "output_type": "display_data"
    }
   ],
   "source": [
    "const image = [1, 0, 1, 0, 1, 1];\n",
    "console.log(transposable(image, 2, 3));"
   ]
  },
  {
   "cell_type": "code",
   "execution_count": 81,
   "metadata": {
    "dotnet_interactive": {
     "language": "javascript"
    },
    "polyglot_notebook": {
     "kernelName": "javascript"
    },
    "vscode": {
     "languageId": "polyglot-notebook"
    }
   },
   "outputs": [
    {
     "data": {
      "text/plain": [
       "true"
      ]
     },
     "metadata": {},
     "output_type": "display_data"
    }
   ],
   "source": [
    "const image = [1, 0, 1, 0, 1, 1];\n",
    "console.log(transposable(image, 6, 1));"
   ]
  },
  {
   "cell_type": "code",
   "execution_count": 82,
   "metadata": {
    "dotnet_interactive": {
     "language": "javascript"
    },
    "polyglot_notebook": {
     "kernelName": "javascript"
    },
    "vscode": {
     "languageId": "polyglot-notebook"
    }
   },
   "outputs": [
    {
     "data": {
      "text/plain": [
       "false"
      ]
     },
     "metadata": {},
     "output_type": "display_data"
    }
   ],
   "source": [
    "const image = [1, 0, 1, 0, 1, 1];\n",
    "console.log(transposable(image, 4, 2));"
   ]
  },
  {
   "cell_type": "markdown",
   "metadata": {},
   "source": [
    "### 5.  Write a function `markdownToHTML(md)`\n",
    "\n",
    "`markdownToHTML(md)` takes in a [Markdown](https://www.markdownguide.org/basic-syntax/)\n",
    "string `md` and returns a HTML string parsed from `md`.\n",
    "\n",
    "You can just parse the header tags (`<h1>`, `<h2>`, and so on) and the paragraph tag `<p>`\n",
    "and ignore the rest of Markdown standard.\n",
    "\n",
    "> Hint: JavaScript strings have method `s.startsWith(p)` which returns a boolean\n",
    "> indicating whether `s` is prefixed with `p`"
   ]
  },
  {
   "cell_type": "code",
   "execution_count": 83,
   "metadata": {
    "dotnet_interactive": {
     "language": "javascript"
    },
    "polyglot_notebook": {
     "kernelName": "javascript"
    },
    "vscode": {
     "languageId": "polyglot-notebook"
    }
   },
   "outputs": [],
   "source": [
    "markdownToHTML = (md) => {\n",
    "\tconst mdsplit = md.split(\"\\n\").filter((i) => i);\n",
    "\treturn mdsplit\n",
    "\t\t.map((mds) => {\n",
    "\t\t\tif (mds.startsWith(\"# \")) {\n",
    "\t\t\t\treturn `<h1>${mds.replace(\"# \", \"\")}</h1>`;\n",
    "\t\t\t} else if (mds.startsWith(\"## \")) {\n",
    "\t\t\t\treturn `<h2>${mds.replace(\"## \", \"\")}</h2>`;\n",
    "\t\t\t} else {\n",
    "\t\t\t\treturn `<p>${mds}</p>`;\n",
    "\t\t\t}\n",
    "\t\t})\n",
    "\t\t.reduce((prev, curr) => prev + curr + \"\\n\", \"\");\n",
    "};"
   ]
  },
  {
   "cell_type": "code",
   "execution_count": 84,
   "metadata": {
    "dotnet_interactive": {
     "language": "javascript"
    },
    "polyglot_notebook": {
     "kernelName": "javascript"
    },
    "vscode": {
     "languageId": "polyglot-notebook"
    }
   },
   "outputs": [
    {
     "data": {
      "text/plain": [
       "<h1>This is H1</h1>\n",
       "<h2>This is H2</h2>\n",
       "<p>This is a paragraph</p>\n"
      ]
     },
     "metadata": {},
     "output_type": "display_data"
    }
   ],
   "source": [
    "const md = `\n",
    "# This is H1\n",
    "\n",
    "## This is H2\n",
    "\n",
    "This is a paragraph\n",
    "`\n",
    "\n",
    "console.log(markdownToHTML(md));\n"
   ]
  }
 ],
 "metadata": {
  "kernelspec": {
   "display_name": "base",
   "language": "python",
   "name": "python3"
  },
  "language_info": {
   "codemirror_mode": {
    "name": "ipython",
    "version": 3
   },
   "file_extension": ".py",
   "mimetype": "text/x-python",
   "name": "python",
   "nbconvert_exporter": "python",
   "pygments_lexer": "ipython3",
   "version": "3.10.9"
  },
  "orig_nbformat": 4,
  "polyglot_notebook": {
   "kernelInfo": {
    "defaultKernelName": "csharp",
    "items": [
     {
      "aliases": [],
      "name": "csharp"
     }
    ]
   }
  }
 },
 "nbformat": 4,
 "nbformat_minor": 2
}
